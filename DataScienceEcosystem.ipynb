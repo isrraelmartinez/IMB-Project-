{
 "cells": [
  {
   "cell_type": "markdown",
   "id": "e7f4b521-bba0-488c-820b-ee2fd0d88192",
   "metadata": {},
   "source": [
    "# Data Science Tools and Ecosysten "
   ]
  },
  {
   "cell_type": "markdown",
   "id": "201be4de-6392-4126-83f7-052bdd071664",
   "metadata": {},
   "source": [
    "## In this notebook, Data Science Tools and Ecosystems are summarized"
   ]
  },
  {
   "cell_type": "markdown",
   "id": "68c191e3-69f1-4eb0-816e-a9951480bf4b",
   "metadata": {},
   "source": [
    "*Objectives* \n",
    "- Python\n",
    "- R/Rstudio\n",
    "- SQL"
   ]
  },
  {
   "cell_type": "markdown",
   "id": "77dafe18-4050-4669-9060-6e4a169488f0",
   "metadata": {},
   "source": [
    "Some of the popular languages that data scientist use are \n",
    "1. Python\n",
    "2. R\n",
    "3. javascript\n",
    "4. SQL\n",
    "5. Julia\n",
    "   "
   ]
  },
  {
   "cell_type": "markdown",
   "id": "0dde80c1-613c-4338-a8cd-370be961d71a",
   "metadata": {},
   "source": [
    "Some of the commonly used libraries of a data sicentist are\n",
    "1. GGplot\n",
    "2. Tensorflow\n",
    "3. NumPy\n",
    "4. Pandas \n"
   ]
  },
  {
   "cell_type": "markdown",
   "id": "36e29835-5fe0-4a38-b49b-9239e73e2260",
   "metadata": {},
   "source": [
    "| Data Science Tools |\n",
    "|------|\n",
    "|Jupyter Notebooks|\n",
    "|RStudio|\n",
    "|Apache Hadoop|"
   ]
  },
  {
   "cell_type": "markdown",
   "id": "45ae5282-ca7c-4836-b810-4eb59ae30c64",
   "metadata": {},
   "source": [
    "### Below are a few examples of evaluating arithmetic expressions using python "
   ]
  },
  {
   "cell_type": "code",
   "execution_count": 1,
   "id": "ecbe9416-e06f-41d7-a517-b7bd459142dc",
   "metadata": {},
   "outputs": [
    {
     "data": {
      "text/plain": [
       "17"
      ]
     },
     "execution_count": 1,
     "metadata": {},
     "output_type": "execute_result"
    }
   ],
   "source": [
    "(3*4)+5"
   ]
  },
  {
   "cell_type": "markdown",
   "id": "f26fd603-af02-4c89-88a9-5e7b5532174f",
   "metadata": {},
   "source": [
    "This is a simple arithmetic expression to multiply then add integers"
   ]
  },
  {
   "cell_type": "code",
   "execution_count": 2,
   "id": "80681e14-97e3-4aca-a6ba-665bc2410d92",
   "metadata": {},
   "outputs": [
    {
     "data": {
      "text/plain": [
       "3.3333333333333335"
      ]
     },
     "execution_count": 2,
     "metadata": {},
     "output_type": "execute_result"
    }
   ],
   "source": [
    "200/60"
   ]
  },
  {
   "cell_type": "markdown",
   "id": "7e31a35b-7ac2-424a-908a-8f7bb00aee9c",
   "metadata": {},
   "source": [
    "This will convert 200 minutes into hours by dividing by 60"
   ]
  },
  {
   "cell_type": "markdown",
   "id": "8a561551-4e29-4e44-9241-2d1275a190e5",
   "metadata": {},
   "source": [
    "## Author"
   ]
  },
  {
   "cell_type": "markdown",
   "id": "36c8a8af-77ff-40a0-a694-c96c82dcc096",
   "metadata": {},
   "source": [
    "Isrrael Martinez "
   ]
  },
  {
   "cell_type": "code",
   "execution_count": null,
   "id": "8e94ef34-c410-418d-84b5-94f0add6b010",
   "metadata": {},
   "outputs": [],
   "source": []
  }
 ],
 "metadata": {
  "kernelspec": {
   "display_name": "Python [conda env:base] *",
   "language": "python",
   "name": "conda-base-py"
  },
  "language_info": {
   "codemirror_mode": {
    "name": "ipython",
    "version": 3
   },
   "file_extension": ".py",
   "mimetype": "text/x-python",
   "name": "python",
   "nbconvert_exporter": "python",
   "pygments_lexer": "ipython3",
   "version": "3.13.5"
  }
 },
 "nbformat": 4,
 "nbformat_minor": 5
}
